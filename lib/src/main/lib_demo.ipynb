{
 "cells": [
  {
   "metadata": {},
   "cell_type": "markdown",
   "source": [
    "### Tic-Tac-Toe Library\n",
    "\n",
    "#### Check the diagram provided for more clarity about design"
   ]
  },
  {
   "metadata": {},
   "cell_type": "markdown",
   "source": "This library defined in **lib** provides abstractions of Board, Player and Spot, essential for implementing Tic-Tac-Toe. Furthermore, it provides ability to extend it with new Player types, as well as new Game layer (for example, through UI), through abstractions of Game and output provider. To provide this configurable behavior, I capitalized on design patterns such as Factory, Abstract Factory and Template Method."
  },
  {
   "metadata": {},
   "cell_type": "markdown",
   "source": "#### Basic abstractions"
  },
  {
   "metadata": {},
   "cell_type": "markdown",
   "source": "Board is a singleton—only one board is present and valid in one run of the game. Making it a singleton allows treating it is a registry that is always easy to access from any part of code. This is good because it is a fitting abstraction of the real-life tic-tac-toe game - board is always visible and accessible."
  },
  {
   "metadata": {
    "ExecuteTime": {
     "end_time": "2025-10-28T22:23:19.467892Z",
     "start_time": "2025-10-28T22:23:19.302495Z"
    }
   },
   "cell_type": "code",
   "source": [
    "import org.jetbrains.kotlinx.tictactoe.Board\n",
    "\n",
    "val board = Board.spots\n",
    "Board.reset()\n",
    "println(board[0][0].player)\n",
    "println(board[0][0].isFree())"
   ],
   "outputs": [
    {
     "name": "stdout",
     "output_type": "stream",
     "text": [
      "null\n",
      "true\n"
     ]
    }
   ],
   "execution_count": 29
  },
  {
   "metadata": {},
   "cell_type": "markdown",
   "source": [
    "Board is accessible directly. It contains spots. Each spot has a player reference. When that reference is null, the spot is free, so prefer using isFree() instead of direct reference.\n",
    "\n",
    "Board can be occupied. Below you see what happens within player makeMove method, because its direct invocation requires some form of input.\n",
    "\n",
    "**It was easy to control that player names do not repeat, but this is deliberately skipped since player side uniquely identifies him.**"
   ]
  },
  {
   "metadata": {
    "ExecuteTime": {
     "end_time": "2025-10-28T22:23:21.228094Z",
     "start_time": "2025-10-28T22:23:21.143829Z"
    }
   },
   "cell_type": "code",
   "source": [
    "import org.jetbrains.kotlinx.tictactoe.Position\n",
    "import org.jetbrains.kotlinx.tictactoe.player.StandardPlayer\n",
    "\n",
    "val player_1 = StandardPlayer(\"X\", \"Player 1\")\n",
    "Board.occupy(player_1, Position(0, 0))"
   ],
   "outputs": [],
   "execution_count": 30
  },
  {
   "metadata": {},
   "cell_type": "markdown",
   "source": "You can also attempt to occupy a non-existent position:"
  },
  {
   "metadata": {
    "ExecuteTime": {
     "end_time": "2025-10-28T22:23:23.994899Z",
     "start_time": "2025-10-28T22:23:23.922786Z"
    }
   },
   "cell_type": "code",
   "source": [
    "// SHOULD THROW EXCEPTION\n",
    "Board.occupy(player_1, Position(10,10))"
   ],
   "outputs": [
    {
     "ename": "java.lang.ArrayIndexOutOfBoundsException",
     "evalue": "Index 10 out of bounds for length 3",
     "output_type": "error",
     "traceback": [
      "java.lang.ArrayIndexOutOfBoundsException: Index 10 out of bounds for length 3",
      "\tat org.jetbrains.kotlinx.tictactoe.Board.occupy(Board.kt:24)",
      "\tat Line_32_jupyter.<init>(Line_32.jupyter.kts:2) at Cell In[31], line 2",
      "\tat java.base/jdk.internal.reflect.DirectConstructorHandleAccessor.newInstance(DirectConstructorHandleAccessor.java:62)",
      "\tat java.base/java.lang.reflect.Constructor.newInstanceWithCaller(Constructor.java:502)",
      "\tat java.base/java.lang.reflect.Constructor.newInstance(Constructor.java:486)",
      "\tat kotlin.script.experimental.jvm.BasicJvmScriptEvaluator.evalWithConfigAndOtherScriptsResults(BasicJvmScriptEvaluator.kt:122)",
      "\tat kotlin.script.experimental.jvm.BasicJvmScriptEvaluator.invoke$suspendImpl(BasicJvmScriptEvaluator.kt:48)",
      "\tat kotlin.script.experimental.jvm.BasicJvmScriptEvaluator.invoke(BasicJvmScriptEvaluator.kt)",
      "\tat kotlin.script.experimental.jvm.BasicJvmReplEvaluator.eval(BasicJvmReplEvaluator.kt:49)",
      "\tat org.jetbrains.kotlinx.jupyter.repl.impl.InternalEvaluatorImpl$eval$resultWithDiagnostics$1.invokeSuspend(InternalEvaluatorImpl.kt:137)",
      "\tat kotlin.coroutines.jvm.internal.BaseContinuationImpl.resumeWith(ContinuationImpl.kt:33)",
      "\tat kotlinx.coroutines.DispatchedTask.run(DispatchedTask.kt:100)",
      "\tat kotlinx.coroutines.EventLoopImplBase.processNextEvent(EventLoop.common.kt:263)",
      "\tat kotlinx.coroutines.BlockingCoroutine.joinBlocking(Builders.kt:112)",
      "\tat kotlinx.coroutines.BuildersKt__BuildersKt.runBlocking$BuildersKt__BuildersKt(Builders.kt:85)",
      "\tat kotlinx.coroutines.BuildersKt__BuildersKt.runBlocking(Builders.kt:53)",
      "\tat kotlinx.coroutines.BuildersKt.runBlocking(Unknown Source)",
      "\tat kotlinx.coroutines.BuildersKt__BuildersKt.runBlocking$default(Builders.kt:48)",
      "\tat kotlinx.coroutines.BuildersKt.runBlocking$default(Unknown Source)",
      "\tat org.jetbrains.kotlinx.jupyter.repl.impl.InternalEvaluatorImpl.eval(InternalEvaluatorImpl.kt:137)",
      "\tat org.jetbrains.kotlinx.jupyter.repl.impl.CellExecutorImpl.execute_L4Nmkdk$lambda$0$0(CellExecutorImpl.kt:80)",
      "\tat org.jetbrains.kotlinx.jupyter.repl.impl.ReplForJupyterImpl.withHost(ReplForJupyterImpl.kt:791)",
      "\tat org.jetbrains.kotlinx.jupyter.repl.impl.CellExecutorImpl.execute-L4Nmkdk(CellExecutorImpl.kt:78)",
      "\tat org.jetbrains.kotlinx.jupyter.repl.execution.CellExecutor.execute-L4Nmkdk$default(CellExecutor.kt:14)",
      "\tat org.jetbrains.kotlinx.jupyter.repl.impl.ReplForJupyterImpl.evaluateUserCode-wNURfNM(ReplForJupyterImpl.kt:616)",
      "\tat org.jetbrains.kotlinx.jupyter.repl.impl.ReplForJupyterImpl.evalExImpl(ReplForJupyterImpl.kt:474)",
      "\tat org.jetbrains.kotlinx.jupyter.repl.impl.ReplForJupyterImpl.evalEx$lambda$0(ReplForJupyterImpl.kt:468)",
      "\tat org.jetbrains.kotlinx.jupyter.repl.impl.ReplForJupyterImpl.withEvalContext(ReplForJupyterImpl.kt:450)",
      "\tat org.jetbrains.kotlinx.jupyter.repl.impl.ReplForJupyterImpl.evalEx(ReplForJupyterImpl.kt:467)",
      "\tat org.jetbrains.kotlinx.jupyter.messaging.IdeCompatibleMessageRequestProcessor.processExecuteRequest$lambda$0$0$0(IdeCompatibleMessageRequestProcessor.kt:160)",
      "\tat org.jetbrains.kotlinx.jupyter.streams.NonBlockingSubstitutionEngine.withDataSubstitution(SubstitutionEngine.kt:102)",
      "\tat org.jetbrains.kotlinx.jupyter.streams.StreamSubstitutionManager.withSubstitutedStreams(StreamSubstitutionManager.kt:118)",
      "\tat org.jetbrains.kotlinx.jupyter.messaging.IdeCompatibleMessageRequestProcessor.withForkedIn(IdeCompatibleMessageRequestProcessor.kt:350)",
      "\tat org.jetbrains.kotlinx.jupyter.messaging.IdeCompatibleMessageRequestProcessor.evalWithIO$lambda$0$0(IdeCompatibleMessageRequestProcessor.kt:363)",
      "\tat org.jetbrains.kotlinx.jupyter.streams.NonBlockingSubstitutionEngine.withDataSubstitution(SubstitutionEngine.kt:102)",
      "\tat org.jetbrains.kotlinx.jupyter.streams.StreamSubstitutionManager.withSubstitutedStreams(StreamSubstitutionManager.kt:118)",
      "\tat org.jetbrains.kotlinx.jupyter.messaging.IdeCompatibleMessageRequestProcessor.withForkedErr(IdeCompatibleMessageRequestProcessor.kt:340)",
      "\tat org.jetbrains.kotlinx.jupyter.messaging.IdeCompatibleMessageRequestProcessor.evalWithIO$lambda$0(IdeCompatibleMessageRequestProcessor.kt:362)",
      "\tat org.jetbrains.kotlinx.jupyter.streams.NonBlockingSubstitutionEngine.withDataSubstitution(SubstitutionEngine.kt:102)",
      "\tat org.jetbrains.kotlinx.jupyter.streams.StreamSubstitutionManager.withSubstitutedStreams(StreamSubstitutionManager.kt:118)",
      "\tat org.jetbrains.kotlinx.jupyter.messaging.IdeCompatibleMessageRequestProcessor.withForkedOut(IdeCompatibleMessageRequestProcessor.kt:333)",
      "\tat org.jetbrains.kotlinx.jupyter.messaging.IdeCompatibleMessageRequestProcessor.evalWithIO(IdeCompatibleMessageRequestProcessor.kt:361)",
      "\tat org.jetbrains.kotlinx.jupyter.messaging.IdeCompatibleMessageRequestProcessor.processExecuteRequest$lambda$0$0(IdeCompatibleMessageRequestProcessor.kt:159)",
      "\tat org.jetbrains.kotlinx.jupyter.execution.JupyterExecutorImpl$Task.execute(JupyterExecutorImpl.kt:41)",
      "\tat org.jetbrains.kotlinx.jupyter.execution.JupyterExecutorImpl.executorThread$lambda$0(JupyterExecutorImpl.kt:81)",
      "\tat kotlin.concurrent.ThreadsKt$thread$thread$1.run(Thread.kt:30)",
      "",
      "java.lang.ArrayIndexOutOfBoundsException: Index 10 out of bounds for length 3",
      "at Cell In[31], line 2"
     ]
    }
   ],
   "execution_count": 31
  },
  {
   "metadata": {},
   "cell_type": "markdown",
   "source": "Another player can try to occupy an occupied spot:"
  },
  {
   "metadata": {
    "ExecuteTime": {
     "end_time": "2025-10-28T22:23:26.050371Z",
     "start_time": "2025-10-28T22:23:25.971081Z"
    }
   },
   "cell_type": "code",
   "source": [
    "// SHOULD THROW EXCEPTION\n",
    "val player_2 = StandardPlayer(\"O\", \"David\")\n",
    "Board.occupy(player_2, Position(0,0))"
   ],
   "outputs": [
    {
     "ename": "org.jetbrains.kotlinx.tictactoe.exceptions.SpotOccupiedException",
     "evalue": "This spot is occupied!",
     "output_type": "error",
     "traceback": [
      "org.jetbrains.kotlinx.tictactoe.exceptions.SpotOccupiedException: This spot is occupied!",
      "\tat org.jetbrains.kotlinx.tictactoe.Spot.occupy(Spot.kt:24)",
      "\tat org.jetbrains.kotlinx.tictactoe.Board.occupy(Board.kt:24)",
      "\tat Line_33_jupyter.<init>(Line_33.jupyter.kts:3) at Cell In[32], line 3",
      "\tat java.base/jdk.internal.reflect.DirectConstructorHandleAccessor.newInstance(DirectConstructorHandleAccessor.java:62)",
      "\tat java.base/java.lang.reflect.Constructor.newInstanceWithCaller(Constructor.java:502)",
      "\tat java.base/java.lang.reflect.Constructor.newInstance(Constructor.java:486)",
      "\tat kotlin.script.experimental.jvm.BasicJvmScriptEvaluator.evalWithConfigAndOtherScriptsResults(BasicJvmScriptEvaluator.kt:122)",
      "\tat kotlin.script.experimental.jvm.BasicJvmScriptEvaluator.invoke$suspendImpl(BasicJvmScriptEvaluator.kt:48)",
      "\tat kotlin.script.experimental.jvm.BasicJvmScriptEvaluator.invoke(BasicJvmScriptEvaluator.kt)",
      "\tat kotlin.script.experimental.jvm.BasicJvmReplEvaluator.eval(BasicJvmReplEvaluator.kt:49)",
      "\tat org.jetbrains.kotlinx.jupyter.repl.impl.InternalEvaluatorImpl$eval$resultWithDiagnostics$1.invokeSuspend(InternalEvaluatorImpl.kt:137)",
      "\tat kotlin.coroutines.jvm.internal.BaseContinuationImpl.resumeWith(ContinuationImpl.kt:33)",
      "\tat kotlinx.coroutines.DispatchedTask.run(DispatchedTask.kt:100)",
      "\tat kotlinx.coroutines.EventLoopImplBase.processNextEvent(EventLoop.common.kt:263)",
      "\tat kotlinx.coroutines.BlockingCoroutine.joinBlocking(Builders.kt:112)",
      "\tat kotlinx.coroutines.BuildersKt__BuildersKt.runBlocking$BuildersKt__BuildersKt(Builders.kt:85)",
      "\tat kotlinx.coroutines.BuildersKt__BuildersKt.runBlocking(Builders.kt:53)",
      "\tat kotlinx.coroutines.BuildersKt.runBlocking(Unknown Source)",
      "\tat kotlinx.coroutines.BuildersKt__BuildersKt.runBlocking$default(Builders.kt:48)",
      "\tat kotlinx.coroutines.BuildersKt.runBlocking$default(Unknown Source)",
      "\tat org.jetbrains.kotlinx.jupyter.repl.impl.InternalEvaluatorImpl.eval(InternalEvaluatorImpl.kt:137)",
      "\tat org.jetbrains.kotlinx.jupyter.repl.impl.CellExecutorImpl.execute_L4Nmkdk$lambda$0$0(CellExecutorImpl.kt:80)",
      "\tat org.jetbrains.kotlinx.jupyter.repl.impl.ReplForJupyterImpl.withHost(ReplForJupyterImpl.kt:791)",
      "\tat org.jetbrains.kotlinx.jupyter.repl.impl.CellExecutorImpl.execute-L4Nmkdk(CellExecutorImpl.kt:78)",
      "\tat org.jetbrains.kotlinx.jupyter.repl.execution.CellExecutor.execute-L4Nmkdk$default(CellExecutor.kt:14)",
      "\tat org.jetbrains.kotlinx.jupyter.repl.impl.ReplForJupyterImpl.evaluateUserCode-wNURfNM(ReplForJupyterImpl.kt:616)",
      "\tat org.jetbrains.kotlinx.jupyter.repl.impl.ReplForJupyterImpl.evalExImpl(ReplForJupyterImpl.kt:474)",
      "\tat org.jetbrains.kotlinx.jupyter.repl.impl.ReplForJupyterImpl.evalEx$lambda$0(ReplForJupyterImpl.kt:468)",
      "\tat org.jetbrains.kotlinx.jupyter.repl.impl.ReplForJupyterImpl.withEvalContext(ReplForJupyterImpl.kt:450)",
      "\tat org.jetbrains.kotlinx.jupyter.repl.impl.ReplForJupyterImpl.evalEx(ReplForJupyterImpl.kt:467)",
      "\tat org.jetbrains.kotlinx.jupyter.messaging.IdeCompatibleMessageRequestProcessor.processExecuteRequest$lambda$0$0$0(IdeCompatibleMessageRequestProcessor.kt:160)",
      "\tat org.jetbrains.kotlinx.jupyter.streams.NonBlockingSubstitutionEngine.withDataSubstitution(SubstitutionEngine.kt:102)",
      "\tat org.jetbrains.kotlinx.jupyter.streams.StreamSubstitutionManager.withSubstitutedStreams(StreamSubstitutionManager.kt:118)",
      "\tat org.jetbrains.kotlinx.jupyter.messaging.IdeCompatibleMessageRequestProcessor.withForkedIn(IdeCompatibleMessageRequestProcessor.kt:350)",
      "\tat org.jetbrains.kotlinx.jupyter.messaging.IdeCompatibleMessageRequestProcessor.evalWithIO$lambda$0$0(IdeCompatibleMessageRequestProcessor.kt:363)",
      "\tat org.jetbrains.kotlinx.jupyter.streams.NonBlockingSubstitutionEngine.withDataSubstitution(SubstitutionEngine.kt:102)",
      "\tat org.jetbrains.kotlinx.jupyter.streams.StreamSubstitutionManager.withSubstitutedStreams(StreamSubstitutionManager.kt:118)",
      "\tat org.jetbrains.kotlinx.jupyter.messaging.IdeCompatibleMessageRequestProcessor.withForkedErr(IdeCompatibleMessageRequestProcessor.kt:340)",
      "\tat org.jetbrains.kotlinx.jupyter.messaging.IdeCompatibleMessageRequestProcessor.evalWithIO$lambda$0(IdeCompatibleMessageRequestProcessor.kt:362)",
      "\tat org.jetbrains.kotlinx.jupyter.streams.NonBlockingSubstitutionEngine.withDataSubstitution(SubstitutionEngine.kt:102)",
      "\tat org.jetbrains.kotlinx.jupyter.streams.StreamSubstitutionManager.withSubstitutedStreams(StreamSubstitutionManager.kt:118)",
      "\tat org.jetbrains.kotlinx.jupyter.messaging.IdeCompatibleMessageRequestProcessor.withForkedOut(IdeCompatibleMessageRequestProcessor.kt:333)",
      "\tat org.jetbrains.kotlinx.jupyter.messaging.IdeCompatibleMessageRequestProcessor.evalWithIO(IdeCompatibleMessageRequestProcessor.kt:361)",
      "\tat org.jetbrains.kotlinx.jupyter.messaging.IdeCompatibleMessageRequestProcessor.processExecuteRequest$lambda$0$0(IdeCompatibleMessageRequestProcessor.kt:159)",
      "\tat org.jetbrains.kotlinx.jupyter.execution.JupyterExecutorImpl$Task.execute(JupyterExecutorImpl.kt:41)",
      "\tat org.jetbrains.kotlinx.jupyter.execution.JupyterExecutorImpl.executorThread$lambda$0(JupyterExecutorImpl.kt:81)",
      "\tat kotlin.concurrent.ThreadsKt$thread$thread$1.run(Thread.kt:30)",
      "",
      "org.jetbrains.kotlinx.tictactoe.exceptions.SpotOccupiedException: This spot is occupied!",
      "at Cell In[32], line 3"
     ]
    }
   ],
   "execution_count": 32
  },
  {
   "metadata": {},
   "cell_type": "markdown",
   "source": "These exceptions are later caught and appropriately handled. See in tests."
  },
  {
   "metadata": {},
   "cell_type": "markdown",
   "source": "#### Game status"
  },
  {
   "metadata": {},
   "cell_type": "markdown",
   "source": [
    "There are many conditions for victory in tic-tac-toe:\n",
    "1. All spots in row taken\n",
    "2. All spots in column taken\n",
    "3. All spots in diagonal taken\n",
    "\n",
    "In an unlikely case where special levels are unlocked and game rules slightly modified, we might want to keep user interested by introducing different win conditions (i.e. you win if you get all the corners). This is easy to do - just extend from WinCondition."
   ]
  },
  {
   "metadata": {
    "ExecuteTime": {
     "end_time": "2025-10-28T22:23:30.770719Z",
     "start_time": "2025-10-28T22:23:30.633355Z"
    }
   },
   "cell_type": "code",
   "source": [
    "import org.jetbrains.kotlinx.tictactoe.status.GameStatusCheck\n",
    "import org.jetbrains.kotlinx.tictactoe.status.RowWinCondition\n",
    "\n",
    "GameStatusCheck.addWinCondition(RowWinCondition())\n",
    "Board.occupy(player_1, Position(0,1))\n",
    "Board.occupy(player_1, Position(0,2))\n",
    "GameStatusCheck.check()"
   ],
   "outputs": [
    {
     "data": {
      "text/plain": [
       "WIN"
      ]
     },
     "execution_count": 33,
     "metadata": {},
     "output_type": "execute_result"
    }
   ],
   "execution_count": 33
  },
  {
   "metadata": {},
   "cell_type": "markdown",
   "source": "There is a reason game status check takes no parameters—all checks and win conditions are completely decoupled from the game flow—they simply inspect the board state. This allows for easy reasoning about purpose and abilities of separate component. Game Status Check is not telling you who won, or in what turn, or anything similar; it simply determines if any win condition has been met."
  },
  {
   "metadata": {},
   "cell_type": "markdown",
   "source": "We may also decide to modify end conditions to make the game more interesting—maybe reduce the number of steps in which the user may win, or eliminate some of the patterns. For this, we can extend from EndCondition."
  },
  {
   "metadata": {
    "ExecuteTime": {
     "end_time": "2025-10-28T22:23:32.953189Z",
     "start_time": "2025-10-28T22:23:32.887376Z"
    }
   },
   "cell_type": "code",
   "source": [
    "import org.jetbrains.kotlinx.tictactoe.status.BoardFullEndCondition\n",
    "\n",
    "GameStatusCheck.addEndCondition(BoardFullEndCondition())"
   ],
   "outputs": [],
   "execution_count": 34
  },
  {
   "metadata": {
    "ExecuteTime": {
     "end_time": "2025-10-28T22:23:34.235128Z",
     "start_time": "2025-10-28T22:23:33.984596Z"
    }
   },
   "cell_type": "code",
   "source": [
    "import org.jetbrains.kotlinx.tictactoe.status.BoardFullEndCondition\n",
    "\n",
    "Board.occupy(player_1, Position(1,0))\n",
    "Board.occupy(player_1, Position(1,1))\n",
    "Board.occupy(player_1, Position(1,2))\n",
    "Board.occupy(player_1, Position(2,0))\n",
    "Board.occupy(player_1, Position(2,1))\n",
    "Board.occupy(player_1, Position(2,2))\n",
    "BoardFullEndCondition().check()"
   ],
   "outputs": [
    {
     "data": {
      "text/plain": [
       "true"
      ]
     },
     "execution_count": 35,
     "metadata": {},
     "output_type": "execute_result"
    }
   ],
   "execution_count": 35
  },
  {
   "metadata": {},
   "cell_type": "markdown",
   "source": [
    "#### How to use the library\n",
    "##### to play the game, just run main"
   ]
  },
  {
   "metadata": {},
   "cell_type": "markdown",
   "source": [
    "Examples above provide more insight into how the library works.\n",
    "\n",
    "However, these are low-level, base abstractions that make the game work. The flow of the game is in the level above. You can see the Game class defined in _game_ package.\n",
    "This class defines standard configurations for win conditions and end conditions but forces you to define how players will be configured, as well as where the game state must be output. You need to redefine the following elements to add a new access-layer (UI):\n",
    "1. Define a new OutputProviderFactory. This will force you to define the full family of products: Board, Spot, Player and Message Output Provider. You will not use those directly, but the Game.start() method will.\n",
    "2. If you want to define a new human player (like StandardPlayer), you define a new Player subclass.\n",
    "3. Define a new Game subclass and define how the players will be configured (UserInterfaceGame)\n",
    "4. When you define the new player type, add it to the Player factory as a key value pair. You are all set!"
   ]
  },
  {
   "metadata": {
    "ExecuteTime": {
     "end_time": "2025-10-28T22:23:37.388336Z",
     "start_time": "2025-10-28T22:23:37.161371Z"
    }
   },
   "cell_type": "code",
   "source": [
    "import game.cli.outputProvider.StandardOutputProviderFactory\n",
    "import org.jetbrains.kotlinx.tictactoe.Spot\n",
    "import org.jetbrains.kotlinx.tictactoe.outputProvider.BoardOutputProvider\n",
    "import org.jetbrains.kotlinx.tictactoe.outputProvider.MessageOutputProvider\n",
    "import org.jetbrains.kotlinx.tictactoe.outputProvider.OutputProviderFactory\n",
    "import org.jetbrains.kotlinx.tictactoe.outputProvider.PlayerOutputProvider\n",
    "import org.jetbrains.kotlinx.tictactoe.outputProvider.SpotOutputProvider\n",
    "import org.jetbrains.kotlinx.tictactoe.player.Player\n",
    "// THIS IS HOW YOU WOULD CREATE A NEW OUTPUT PROVIDER FAMILY\n",
    "class SimpleMessageOutputProvider : MessageOutputProvider() {\n",
    "    override fun output(message: String) {\n",
    "        println(message)\n",
    "    }\n",
    "\n",
    "}\n",
    "\n",
    "class SimpleSpotOutputProvider: SpotOutputProvider() {\n",
    "    override fun output(spot: Spot) {\n",
    "        StandardOutputProviderFactory.getSpotOutputProvider().output(spot)\n",
    "    }\n",
    "}\n",
    "\n",
    "class SimpleBoardOutputProvider: BoardOutputProvider() {\n",
    "    override fun output() {\n",
    "        StandardOutputProviderFactory.getBoardOutputProvider().output()\n",
    "    }\n",
    "\n",
    "}\n",
    "\n",
    "class SimplePlayerOutputProvider: PlayerOutputProvider() {\n",
    "    override fun output(player: Player) {\n",
    "        StandardOutputProviderFactory.getPlayerOutputProvider().output(player)\n",
    "    }\n",
    "}\n",
    "\n",
    "object SimpleOutputProviderFactory: OutputProviderFactory() {\n",
    "    override fun getBoardOutputProvider(): SimpleBoardOutputProvider {\n",
    "        return SimpleBoardOutputProvider()\n",
    "    }\n",
    "\n",
    "    override fun getSpotOutputProvider(): SimpleSpotOutputProvider {\n",
    "        return SimpleSpotOutputProvider()\n",
    "    }\n",
    "\n",
    "    override fun getPlayerOutputProvider(): SimplePlayerOutputProvider {\n",
    "        return SimplePlayerOutputProvider()\n",
    "    }\n",
    "\n",
    "    override fun getMessageOutputProvider(): SimpleMessageOutputProvider {\n",
    "        return SimpleMessageOutputProvider()\n",
    "    }\n",
    "\n",
    "}"
   ],
   "outputs": [],
   "execution_count": 36
  },
  {
   "metadata": {
    "ExecuteTime": {
     "end_time": "2025-10-28T22:15:39.548532Z",
     "start_time": "2025-10-28T22:15:39.495787Z"
    }
   },
   "cell_type": "markdown",
   "source": [
    "For players, we will use non-interactive ones to avoid input.\n",
    "First, enjoy two random players fight! No one knows who will win!"
   ]
  },
  {
   "metadata": {
    "ExecuteTime": {
     "end_time": "2025-10-28T22:23:41.607003Z",
     "start_time": "2025-10-28T22:23:41.455684Z"
    }
   },
   "cell_type": "code",
   "source": [
    "import game.Game\n",
    "import org.jetbrains.kotlinx.tictactoe.player.RandomPlayer\n",
    "\n",
    "class SimpleGame(): Game(SimpleOutputProviderFactory) {\n",
    "    override fun configurePlayers(): List<Player> {\n",
    "        return listOf(RandomPlayer(\"X\", \"Player 1\"), RandomPlayer(\"O\", \"Player 2\"))\n",
    "    }\n",
    "}\n",
    "Board.reset()\n",
    "SimpleGame().run()"
   ],
   "outputs": [
    {
     "name": "stdout",
     "output_type": "stream",
     "text": [
      "Player Player 1 (X)'s turn!\n",
      "---\n",
      "   \n",
      "---\n",
      "   \n",
      "---\n",
      "   \n",
      "---\n",
      "Player Player 2 (O)'s turn!\n",
      "---\n",
      "   \n",
      "---\n",
      "   \n",
      "---\n",
      "X  \n",
      "---\n",
      "Player Player 1 (X)'s turn!\n",
      "---\n",
      " O \n",
      "---\n",
      "   \n",
      "---\n",
      "X  \n",
      "---\n",
      "Player Player 2 (O)'s turn!\n",
      "---\n",
      " O \n",
      "---\n",
      "X  \n",
      "---\n",
      "X  \n",
      "---\n",
      "Player Player 1 (X)'s turn!\n",
      "---\n",
      " O \n",
      "---\n",
      "X  \n",
      "---\n",
      "X O\n",
      "---\n",
      "Player Player 2 (O)'s turn!\n",
      "---\n",
      " O \n",
      "---\n",
      "X  \n",
      "---\n",
      "XXO\n",
      "---\n",
      "Player Player 1 (X)'s turn!\n",
      "---\n",
      "OO \n",
      "---\n",
      "X  \n",
      "---\n",
      "XXO\n",
      "---\n",
      "Player Player 2 (O)'s turn!\n",
      "---\n",
      "OO \n",
      "---\n",
      "X X\n",
      "---\n",
      "XXO\n",
      "---\n",
      "The winner is O: Player 2!\n",
      "---\n",
      "OOO\n",
      "---\n",
      "X X\n",
      "---\n",
      "XXO\n",
      "---\n"
     ]
    }
   ],
   "execution_count": 37
  },
  {
   "metadata": {},
   "cell_type": "markdown",
   "source": "Now we will see one random player against a smart player. This will be much less interesting since the smart player is killing it."
  },
  {
   "metadata": {
    "ExecuteTime": {
     "end_time": "2025-10-28T22:20:06.522633Z",
     "start_time": "2025-10-28T22:20:06.390491Z"
    }
   },
   "cell_type": "code",
   "source": [
    "import org.jetbrains.kotlinx.tictactoe.player.SmartPlayer\n",
    "\n",
    "class LessSimpleGame() : Game(SimpleOutputProviderFactory) {\n",
    "    override fun configurePlayers(): List<Player> {\n",
    "        return listOf(RandomPlayer(\"X\", \"Player 1\"), SmartPlayer(\"O\", \"Smarter than David\"))\n",
    "    }\n",
    "}\n",
    "Board.reset()\n",
    "LessSimpleGame().run()"
   ],
   "outputs": [
    {
     "name": "stdout",
     "output_type": "stream",
     "text": [
      "Player Player 1 (X)'s turn!\n",
      "---\n",
      "   \n",
      "---\n",
      "   \n",
      "---\n",
      "   \n",
      "---\n",
      "Player Smarter than David (O)'s turn!\n",
      "---\n",
      "   \n",
      "---\n",
      "   \n",
      "---\n",
      "  X\n",
      "---\n",
      "Player Player 1 (X)'s turn!\n",
      "---\n",
      "   \n",
      "---\n",
      " O \n",
      "---\n",
      "  X\n",
      "---\n",
      "Player Smarter than David (O)'s turn!\n",
      "---\n",
      " X \n",
      "---\n",
      " O \n",
      "---\n",
      "  X\n",
      "---\n",
      "Player Player 1 (X)'s turn!\n",
      "---\n",
      "OX \n",
      "---\n",
      " O \n",
      "---\n",
      "  X\n",
      "---\n",
      "Player Smarter than David (O)'s turn!\n",
      "---\n",
      "OXX\n",
      "---\n",
      " O \n",
      "---\n",
      "  X\n",
      "---\n",
      "Player Player 1 (X)'s turn!\n",
      "---\n",
      "OXX\n",
      "---\n",
      " OO\n",
      "---\n",
      "  X\n",
      "---\n",
      "Player Smarter than David (O)'s turn!\n",
      "---\n",
      "OXX\n",
      "---\n",
      " OO\n",
      "---\n",
      " XX\n",
      "---\n",
      "The winner is O: Smarter than David!\n",
      "---\n",
      "OXX\n",
      "---\n",
      "OOO\n",
      "---\n",
      " XX\n",
      "---\n"
     ]
    }
   ],
   "execution_count": 20
  },
  {
   "metadata": {},
   "cell_type": "markdown",
   "source": "And at last we can watch a very boring game that ends in draw, two smart players against each other:"
  },
  {
   "metadata": {
    "ExecuteTime": {
     "end_time": "2025-10-28T22:21:12.557355Z",
     "start_time": "2025-10-28T22:21:12.386801Z"
    }
   },
   "cell_type": "code",
   "source": [
    "import org.jetbrains.kotlinx.tictactoe.player.SmartPlayer\n",
    "\n",
    "class BoringGame() : Game(SimpleOutputProviderFactory) {\n",
    "    override fun configurePlayers(): List<Player> {\n",
    "        return listOf(SmartPlayer(\"X\", \"Smarter than David too\"), SmartPlayer(\"O\", \"Smarter than David\"))\n",
    "    }\n",
    "}\n",
    "Board.reset()\n",
    "BoringGame().run()"
   ],
   "outputs": [
    {
     "name": "stdout",
     "output_type": "stream",
     "text": [
      "Player Smarter than David too (X)'s turn!\n",
      "---\n",
      "   \n",
      "---\n",
      "   \n",
      "---\n",
      "   \n",
      "---\n",
      "Player Smarter than David (O)'s turn!\n",
      "---\n",
      "X  \n",
      "---\n",
      "   \n",
      "---\n",
      "   \n",
      "---\n",
      "Player Smarter than David too (X)'s turn!\n",
      "---\n",
      "X  \n",
      "---\n",
      " O \n",
      "---\n",
      "   \n",
      "---\n",
      "Player Smarter than David (O)'s turn!\n",
      "---\n",
      "XX \n",
      "---\n",
      " O \n",
      "---\n",
      "   \n",
      "---\n",
      "Player Smarter than David too (X)'s turn!\n",
      "---\n",
      "XXO\n",
      "---\n",
      " O \n",
      "---\n",
      "   \n",
      "---\n",
      "Player Smarter than David (O)'s turn!\n",
      "---\n",
      "XXO\n",
      "---\n",
      " O \n",
      "---\n",
      "X  \n",
      "---\n",
      "Player Smarter than David too (X)'s turn!\n",
      "---\n",
      "XXO\n",
      "---\n",
      "OO \n",
      "---\n",
      "X  \n",
      "---\n",
      "Player Smarter than David (O)'s turn!\n",
      "---\n",
      "XXO\n",
      "---\n",
      "OOX\n",
      "---\n",
      "X  \n",
      "---\n",
      "Player Smarter than David too (X)'s turn!\n",
      "---\n",
      "XXO\n",
      "---\n",
      "OOX\n",
      "---\n",
      "XO \n",
      "---\n",
      "The game ended in a draw!\n",
      "---\n",
      "XXO\n",
      "---\n",
      "OOX\n",
      "---\n",
      "XOX\n",
      "---\n"
     ]
    }
   ],
   "execution_count": 23
  },
  {
   "metadata": {},
   "cell_type": "code",
   "outputs": [],
   "execution_count": null,
   "source": ""
  }
 ],
 "metadata": {
  "kernelspec": {
   "display_name": "Kotlin",
   "language": "kotlin",
   "name": "kotlin"
  },
  "language_info": {
   "name": "kotlin",
   "version": "2.2.20-Beta2",
   "mimetype": "text/x-kotlin",
   "file_extension": ".kt",
   "pygments_lexer": "kotlin",
   "codemirror_mode": "text/x-kotlin",
   "nbconvert_exporter": ""
  },
  "ktnbPluginMetadata": {
   "sessionRunMode": "IDE_PROCESS",
   "projectLibraries": false,
   "projectDependencies": [
    "notebook-test-project.lib.main"
   ]
  }
 },
 "nbformat": 4,
 "nbformat_minor": 0
}
